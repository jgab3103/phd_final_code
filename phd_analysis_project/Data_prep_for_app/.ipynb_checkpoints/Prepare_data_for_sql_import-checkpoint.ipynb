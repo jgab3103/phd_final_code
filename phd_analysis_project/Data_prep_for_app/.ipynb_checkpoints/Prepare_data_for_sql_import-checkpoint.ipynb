{
 "cells": [
  {
   "cell_type": "code",
   "execution_count": 88,
   "metadata": {
    "collapsed": true,
    "deletable": true,
    "editable": true
   },
   "outputs": [],
   "source": [
    "import pandas as pd\n",
    "import math"
   ]
  },
  {
   "cell_type": "code",
   "execution_count": 89,
   "metadata": {
    "collapsed": true,
    "deletable": true,
    "editable": true
   },
   "outputs": [],
   "source": [
    "#GET DICTIIONARIES\n",
    "chords_dict = pd.read_pickle('../Data_prep_for_app/Foreign_Key_Dicts/chord_dict').to_dict()\n",
    "time_signature_dict = pd.read_pickle('../Data_prep_for_app/Foreign_Key_Dicts/time_signature_dict').to_dict()\n",
    "composers_dict = pd.read_pickle('../Data_prep_for_app/Foreign_Key_Dicts/composer_dict').to_dict()\n",
    "lyricists_dict = pd.read_pickle('../Data_prep_for_app/Foreign_Key_Dicts/lyricist_dict').to_dict()\n",
    "performers_dict = pd.read_pickle('../Data_prep_for_app/Foreign_Key_Dicts/performer_dict').to_dict()\n",
    "composers_coll_dict = pd.read_pickle('../Data_prep_for_app/Foreign_Key_Dicts/composer_coll_dict').to_dict()\n",
    "performers_coll_dict = pd.read_pickle('../Data_prep_for_app/Foreign_Key_Dicts/performer_coll_dict').to_dict()\n",
    "work_dict = pd.read_pickle('../Data_prep_for_app/Foreign_Key_Dicts/work_dict')\n",
    "\n",
    "\n",
    "altyakj = pd.read_json('../Datasets/jsonFiles/allTheThingsYouAreKeithJarrettSolo.json')\n",
    "sdmpwckj = pd.read_json('../Datasets/jsonFiles/somedayMyPrinceWillComeKeithJarrettSolo.json')\n",
    "iiwabkj = pd.read_json('../Datasets/jsonFiles/ifIWereABellKeithJarrettSolo.json')\n",
    "alkj = pd.read_json('../Datasets/jsonFiles/autumnLeavesKeithJarrettSolo.json')\n",
    "ghkj = pd.read_json('../Datasets/jsonFiles/groovinHighKeithJarrettSolo.json')\n",
    "dowarkj = pd.read_json('../Datasets/jsonFiles/daysOfWineAndRosesKeithJarrettSolo.json')\n",
    "sbskj = pd.read_json('../Datasets/jsonFiles/stellaByStarlightKeithJarrettSolo.json')\n",
    "\n",
    "notes = pd.concat([altyakj, sdmpwckj, iiwabkj, alkj, ghkj, dowarkj, sbskj]).reset_index(drop=True)\n",
    "notes[\"Current chord type\"] = notes[\"Current chord type\"].fillna('dom')\n",
    "notes[\"Lyricist name\"] = notes[\"Lyricist name\"].fillna('No lyricist')"
   ]
  },
  {
   "cell_type": "code",
   "execution_count": 90,
   "metadata": {
    "collapsed": true,
    "deletable": true,
    "editable": true
   },
   "outputs": [],
   "source": [
    "def get_chord_id(data_row):\n",
    "    c = str(data_row['Current chord root'])  + str(data_row['Current chord type']) + str(data_row['Current chord root as int'])\n",
    "    return chords_dict[c]\n",
    "    \n",
    "def get_ts(data_row):\n",
    "    x = str(data_row[\"Time signature numerator\"]) + str(data_row[\"Time signature denominator\"])\n",
    "    return time_signature_dict[x]\n",
    "\n",
    "def get_composer(data_row):\n",
    "    x = data_row[\"Composer name\"]\n",
    "    return composers_dict[x]\n",
    "\n",
    "def get_lyricist(data_row):\n",
    "    x = data_row[\"Lyricist name\"]\n",
    "    return lyricists_dict[x]\n",
    "\n",
    "def get_performer(data_row):\n",
    "    x = data_row[\"Performer name\"]\n",
    "    return performers_dict[x]\n",
    "\n",
    "def get_performer_collection(data_row):\n",
    "    x = data_row[\"Performer collection\"]\n",
    "    return performers_coll_dict[x]\n",
    "\n",
    "def get_composer_collection(data_row):\n",
    "    x = data_row[\"Composer collection\"]\n",
    "    return composers_coll_dict[x]\n",
    "\n",
    "def get_work(data_row):\n",
    "    x = data_row[\"Title\"]\n",
    "    return work_dict[x]"
   ]
  },
  {
   "cell_type": "code",
   "execution_count": 91,
   "metadata": {
    "collapsed": false,
    "deletable": true,
    "editable": true
   },
   "outputs": [
    {
     "data": {
      "text/plain": [
       "Johnny Mercer           2669\n",
       "Oscar Hammerstein II    2027\n",
       "Frank Loesser           1983\n",
       "Larry Morey             1815\n",
       "No lyricist             1811\n",
       "Ned Washington          1512\n",
       "Name: Lyricist name, dtype: int64"
      ]
     },
     "execution_count": 91,
     "metadata": {},
     "output_type": "execute_result"
    }
   ],
   "source": [
    "notes['Lyricist name'].value_counts()"
   ]
  },
  {
   "cell_type": "code",
   "execution_count": 92,
   "metadata": {
    "collapsed": false,
    "deletable": true,
    "editable": true
   },
   "outputs": [],
   "source": [
    "notes['chord_symbol'] = notes.apply(get_chord_id, axis=1)\n",
    "notes['time_signature_id'] = notes.apply(get_ts, axis=1)\n",
    "notes['composer_id'] = notes.apply(get_composer, axis=1)\n",
    "notes['lyricist_id'] = notes.apply(get_lyricist, axis=1)\n",
    "notes['performer_id'] = notes.apply(get_performer, axis=1)\n",
    "notes['performer_col'] = notes.apply(get_performer_collection, axis=1)\n",
    "notes['composer_col'] = notes.apply(get_composer_collection, axis=1)\n",
    "notes['work_id'] = notes.apply(get_work, axis=1)"
   ]
  },
  {
   "cell_type": "code",
   "execution_count": 93,
   "metadata": {
    "collapsed": false
   },
   "outputs": [],
   "source": [
    "#notes.head(1).T"
   ]
  },
  {
   "cell_type": "code",
   "execution_count": 94,
   "metadata": {
    "collapsed": false
   },
   "outputs": [],
   "source": [
    "#notes.groupby(['work_id', 'Title', 'Lyricist name', 'Composer name', 'Performer collection', 'Composer collection']).count()"
   ]
  },
  {
   "cell_type": "code",
   "execution_count": null,
   "metadata": {
    "collapsed": false
   },
   "outputs": [],
   "source": []
  },
  {
   "cell_type": "code",
   "execution_count": 95,
   "metadata": {
    "collapsed": false
   },
   "outputs": [],
   "source": [
    "del notes['composer_id']\n",
    "del notes['lyricist_id']\n",
    "del notes['performer_id']\n",
    "del notes['performer_col']\n",
    "del notes['composer_col']"
   ]
  },
  {
   "cell_type": "code",
   "execution_count": 96,
   "metadata": {
    "collapsed": false,
    "deletable": true,
    "editable": true
   },
   "outputs": [],
   "source": [
    "notes = notes[[\n",
    " 'Midi number',\n",
    " 'Quarter beats per minute',\n",
    " 'Duration',\n",
    " 'Duration due to tied notes',\n",
    " 'Location',\n",
    " 'Location in measure',\n",
    " 'Measure location',\n",
    " 'Current measure',\n",
    " 'Harmony note flag',\n",
    " 'Voice',\n",
    " 'chord_symbol',\n",
    " 'time_signature_id',\n",
    " 'work_id',\n",
    " ] \n",
    "]"
   ]
  },
  {
   "cell_type": "code",
   "execution_count": 97,
   "metadata": {
    "collapsed": false,
    "deletable": true,
    "editable": true
   },
   "outputs": [],
   "source": [
    "notes['articulation_id'] = 0\n",
    "notes['dynamic_id'] = 0"
   ]
  },
  {
   "cell_type": "code",
   "execution_count": 98,
   "metadata": {
    "collapsed": false,
    "deletable": true,
    "editable": true
   },
   "outputs": [
    {
     "data": {
      "text/plain": [
       "['Midi number',\n",
       " 'Quarter beats per minute',\n",
       " 'Duration',\n",
       " 'Duration due to tied notes',\n",
       " 'Location',\n",
       " 'Location in measure',\n",
       " 'Measure location',\n",
       " 'Current measure',\n",
       " 'Harmony note flag',\n",
       " 'Voice',\n",
       " 'chord_symbol',\n",
       " 'time_signature_id',\n",
       " 'work_id',\n",
       " 'articulation_id',\n",
       " 'dynamic_id']"
      ]
     },
     "execution_count": 98,
     "metadata": {},
     "output_type": "execute_result"
    }
   ],
   "source": [
    "notes.columns.tolist()"
   ]
  },
  {
   "cell_type": "code",
   "execution_count": 99,
   "metadata": {
    "collapsed": false,
    "deletable": true,
    "editable": true
   },
   "outputs": [],
   "source": [
    "notes.columns = [\n",
    "'midi_number',\n",
    " 'tempo_in_qbm',\n",
    " 'duration',\n",
    " 'duration_due_to_tied_notes',\n",
    " 'location',\n",
    " 'location_in_measure',\n",
    " 'starting_location_of_this_measure',\n",
    " 'current_measure',\n",
    " 'harmony_note_flag',\n",
    " 'voice',\n",
    " 'chord_symbol',\n",
    " 'time_signature_id',\n",
    " 'work_id',\n",
    " 'articulation_id',\n",
    " 'dynamic_id',]"
   ]
  },
  {
   "cell_type": "code",
   "execution_count": 100,
   "metadata": {
    "collapsed": false,
    "deletable": true,
    "editable": true
   },
   "outputs": [],
   "source": [
    "def convert_midi_number_to_string(data_row):\n",
    "    midi_number = data_row[\"midi_number\"]\n",
    "    octave = math.floor(midi_number / 12) - 1\n",
    "    remainder = midi_number % 12\n",
    "    note_string = ''\n",
    "    \n",
    "    if remainder == 0:\n",
    "        note_string = 'C'\n",
    "    elif remainder == 1:\n",
    "        note_string = 'C#/Db'\n",
    "    elif remainder == 2:\n",
    "        note_string = 'D'\n",
    "    elif remainder == 3:\n",
    "        note_string = 'D#/Eb'\n",
    "    elif remainder == 4:\n",
    "        note_string = 'E'\n",
    "    elif remainder == 5:\n",
    "        note_string = 'F'\n",
    "    elif remainder == 6:\n",
    "        note_string = 'F#/Gb'\n",
    "    elif remainder == 7:\n",
    "        note_string = 'G'\n",
    "    elif remainder == 8:\n",
    "        note_string = 'G#/Ab'\n",
    "    elif remainder == 9:\n",
    "        note_string = 'A'\n",
    "    elif remainder == 10:\n",
    "        note_string = 'A#/Bb'\n",
    "    elif remainder == 11:\n",
    "        note_string = 'B'\n",
    "    \n",
    "    \n",
    "    \n",
    "    if data_row[\"midi_number\"] < 0:\n",
    "        return 'rest'\n",
    "    else:\n",
    "        return note_string + str(octave)\n",
    "    \n",
    "    \n",
    "def convert_midi_number_to_string_without_octave(data_row):\n",
    "    midi_number = data_row[\"midi_number\"]\n",
    "    octave = math.floor(midi_number / 12) - 1\n",
    "    remainder = midi_number % 12\n",
    "    note_string = ''\n",
    "    \n",
    "    if remainder == 0:\n",
    "        note_string = 'C'\n",
    "    elif remainder == 1:\n",
    "        note_string = 'C#/Db'\n",
    "    elif remainder == 2:\n",
    "        note_string = 'D'\n",
    "    elif remainder == 3:\n",
    "        note_string = 'D#/Eb'\n",
    "    elif remainder == 4:\n",
    "        note_string = 'E'\n",
    "    elif remainder == 5:\n",
    "        note_string = 'F'\n",
    "    elif remainder == 6:\n",
    "        note_string = 'F#/Gb'\n",
    "    elif remainder == 7:\n",
    "        note_string = 'G'\n",
    "    elif remainder == 8:\n",
    "        note_string = 'G#/Ab'\n",
    "    elif remainder == 9:\n",
    "        note_string = 'A'\n",
    "    elif remainder == 10:\n",
    "        note_string = 'A#/Bb'\n",
    "    elif remainder == 11:\n",
    "        note_string = 'B'\n",
    "    \n",
    "    \n",
    "    \n",
    "    if data_row[\"midi_number\"] < 0:\n",
    "        return 'rest'\n",
    "    else:\n",
    "        return note_string\n",
    "    \n",
    "\n",
    "def convert_float_duration_to_string(data_row):\n",
    "    if data_row['duration_due_to_tied_notes'] == 240:\n",
    "        return 'Eighth note'\n",
    "    elif data_row['duration_due_to_tied_notes'] == 120:\n",
    "        return \"Sixteenth note\"\n",
    "    elif data_row['duration_due_to_tied_notes'] == 160:\n",
    "        return \"Sixteenth note triplet\"\n",
    "    elif data_row['duration_due_to_tied_notes'] == 480:\n",
    "        return \"Half note\"\n",
    "    elif data_row['duration_due_to_tied_notes'] == 960:\n",
    "        return \"Dotted half note\"\n",
    "    elif data_row['duration_due_to_tied_notes'] == 96:\n",
    "        return \"Sixteenth note\"\n",
    "    elif data_row['duration_due_to_tied_notes'] == 80:\n",
    "        return \"Sixteenth note triplet\"\n",
    "    elif data_row['duration_due_to_tied_notes'] == 320:\n",
    "        return \"Quarter note tripet\"\n",
    "    elif data_row['duration_due_to_tied_notes'] == 720:\n",
    "        return \"Half note triplet\"\n",
    "    elif data_row['duration_due_to_tied_notes'] == 1920:\n",
    "        return \"Dotted whole note triplet\"\n",
    "    elif data_row['duration_due_to_tied_notes'] == 137:\n",
    "        return \"Sixteenth note quintuplet\"\n",
    "    elif data_row['duration_due_to_tied_notes'] == 360:\n",
    "        return \"Dotted eigtht note\"\n",
    "    elif data_row['duration_due_to_tied_notes'] == 60:\n",
    "        return \"Thirty second note\"\n",
    "    elif data_row['duration_due_to_tied_notes'] == 1440:\n",
    "        return \"Half note dotted triplet\"\n",
    "    elif data_row['duration_due_to_tied_notes'] == 192:\n",
    "        return \"Sixteenth note dotted triplet\"\n",
    "    elif data_row['duration_due_to_tied_notes'] == 107:\n",
    "        return \"Thirty second note dotted triplet\"\n",
    "    elif data_row['duration_due_to_tied_notes'] == 180:\n",
    "        return \"Dotted half note\"\n",
    "    elif data_row['duration_due_to_tied_notes'] == 40:\n",
    "        return \"Sixteenth note\"\n",
    "    elif data_row['duration_due_to_tied_notes'] == 1680:\n",
    "        return \"Dotted half note\"\n",
    "    else:\n",
    "        return 'fix'"
   ]
  },
  {
   "cell_type": "code",
   "execution_count": 101,
   "metadata": {
    "collapsed": false,
    "deletable": true,
    "editable": true
   },
   "outputs": [],
   "source": [
    "notes['pitch_name'] = notes.apply(convert_midi_number_to_string, axis=1)\n",
    "notes['pitch_name_without_octave'] = notes.apply(convert_midi_number_to_string_without_octave, axis=1)\n",
    "notes['duration_name'] = notes.apply(convert_float_duration_to_string, axis=1)\n",
    "notes['instrument'] = 0"
   ]
  },
  {
   "cell_type": "code",
   "execution_count": 102,
   "metadata": {
    "collapsed": false
   },
   "outputs": [
    {
     "data": {
      "text/html": [
       "<div>\n",
       "<table border=\"1\" class=\"dataframe\">\n",
       "  <thead>\n",
       "    <tr style=\"text-align: right;\">\n",
       "      <th></th>\n",
       "      <th>11816</th>\n",
       "    </tr>\n",
       "  </thead>\n",
       "  <tbody>\n",
       "    <tr>\n",
       "      <th>midi_number</th>\n",
       "      <td>-1</td>\n",
       "    </tr>\n",
       "    <tr>\n",
       "      <th>tempo_in_qbm</th>\n",
       "      <td>60</td>\n",
       "    </tr>\n",
       "    <tr>\n",
       "      <th>duration</th>\n",
       "      <td>960</td>\n",
       "    </tr>\n",
       "    <tr>\n",
       "      <th>duration_due_to_tied_notes</th>\n",
       "      <td>960</td>\n",
       "    </tr>\n",
       "    <tr>\n",
       "      <th>location</th>\n",
       "      <td>308160</td>\n",
       "    </tr>\n",
       "    <tr>\n",
       "      <th>location_in_measure</th>\n",
       "      <td>960</td>\n",
       "    </tr>\n",
       "    <tr>\n",
       "      <th>starting_location_of_this_measure</th>\n",
       "      <td>307200</td>\n",
       "    </tr>\n",
       "    <tr>\n",
       "      <th>current_measure</th>\n",
       "      <td>161</td>\n",
       "    </tr>\n",
       "    <tr>\n",
       "      <th>harmony_note_flag</th>\n",
       "      <td>False</td>\n",
       "    </tr>\n",
       "    <tr>\n",
       "      <th>voice</th>\n",
       "      <td>1</td>\n",
       "    </tr>\n",
       "    <tr>\n",
       "      <th>chord_symbol</th>\n",
       "      <td>28</td>\n",
       "    </tr>\n",
       "    <tr>\n",
       "      <th>time_signature_id</th>\n",
       "      <td>1</td>\n",
       "    </tr>\n",
       "    <tr>\n",
       "      <th>work_id</th>\n",
       "      <td>6</td>\n",
       "    </tr>\n",
       "    <tr>\n",
       "      <th>articulation_id</th>\n",
       "      <td>0</td>\n",
       "    </tr>\n",
       "    <tr>\n",
       "      <th>dynamic_id</th>\n",
       "      <td>0</td>\n",
       "    </tr>\n",
       "    <tr>\n",
       "      <th>pitch_name</th>\n",
       "      <td>rest</td>\n",
       "    </tr>\n",
       "    <tr>\n",
       "      <th>pitch_name_without_octave</th>\n",
       "      <td>rest</td>\n",
       "    </tr>\n",
       "    <tr>\n",
       "      <th>duration_name</th>\n",
       "      <td>Dotted half note</td>\n",
       "    </tr>\n",
       "    <tr>\n",
       "      <th>instrument</th>\n",
       "      <td>0</td>\n",
       "    </tr>\n",
       "  </tbody>\n",
       "</table>\n",
       "</div>"
      ],
      "text/plain": [
       "                                              11816\n",
       "midi_number                                      -1\n",
       "tempo_in_qbm                                     60\n",
       "duration                                        960\n",
       "duration_due_to_tied_notes                      960\n",
       "location                                     308160\n",
       "location_in_measure                             960\n",
       "starting_location_of_this_measure            307200\n",
       "current_measure                                 161\n",
       "harmony_note_flag                             False\n",
       "voice                                             1\n",
       "chord_symbol                                     28\n",
       "time_signature_id                                 1\n",
       "work_id                                           6\n",
       "articulation_id                                   0\n",
       "dynamic_id                                        0\n",
       "pitch_name                                     rest\n",
       "pitch_name_without_octave                      rest\n",
       "duration_name                      Dotted half note\n",
       "instrument                                        0"
      ]
     },
     "execution_count": 102,
     "metadata": {},
     "output_type": "execute_result"
    }
   ],
   "source": [
    "notes.tail(1).T"
   ]
  },
  {
   "cell_type": "code",
   "execution_count": null,
   "metadata": {
    "collapsed": true
   },
   "outputs": [],
   "source": []
  },
  {
   "cell_type": "code",
   "execution_count": 103,
   "metadata": {
    "collapsed": true,
    "deletable": true,
    "editable": true
   },
   "outputs": [],
   "source": [
    "notes.to_csv('../Data_prep_for_app/Prepared_tables/note_eventsV2.csv')"
   ]
  },
  {
   "cell_type": "code",
   "execution_count": 105,
   "metadata": {
    "collapsed": false,
    "deletable": true,
    "editable": true
   },
   "outputs": [
    {
     "data": {
      "text/html": [
       "<div>\n",
       "<table border=\"1\" class=\"dataframe\">\n",
       "  <thead>\n",
       "    <tr style=\"text-align: right;\">\n",
       "      <th></th>\n",
       "      <th>11816</th>\n",
       "    </tr>\n",
       "  </thead>\n",
       "  <tbody>\n",
       "    <tr>\n",
       "      <th>midi_number</th>\n",
       "      <td>-1</td>\n",
       "    </tr>\n",
       "    <tr>\n",
       "      <th>tempo_in_qbm</th>\n",
       "      <td>60</td>\n",
       "    </tr>\n",
       "    <tr>\n",
       "      <th>duration</th>\n",
       "      <td>960</td>\n",
       "    </tr>\n",
       "    <tr>\n",
       "      <th>duration_due_to_tied_notes</th>\n",
       "      <td>960</td>\n",
       "    </tr>\n",
       "    <tr>\n",
       "      <th>location</th>\n",
       "      <td>308160</td>\n",
       "    </tr>\n",
       "    <tr>\n",
       "      <th>location_in_measure</th>\n",
       "      <td>960</td>\n",
       "    </tr>\n",
       "    <tr>\n",
       "      <th>starting_location_of_this_measure</th>\n",
       "      <td>307200</td>\n",
       "    </tr>\n",
       "    <tr>\n",
       "      <th>current_measure</th>\n",
       "      <td>161</td>\n",
       "    </tr>\n",
       "    <tr>\n",
       "      <th>harmony_note_flag</th>\n",
       "      <td>False</td>\n",
       "    </tr>\n",
       "    <tr>\n",
       "      <th>voice</th>\n",
       "      <td>1</td>\n",
       "    </tr>\n",
       "    <tr>\n",
       "      <th>chord_symbol</th>\n",
       "      <td>28</td>\n",
       "    </tr>\n",
       "    <tr>\n",
       "      <th>time_signature_id</th>\n",
       "      <td>1</td>\n",
       "    </tr>\n",
       "    <tr>\n",
       "      <th>work_id</th>\n",
       "      <td>6</td>\n",
       "    </tr>\n",
       "    <tr>\n",
       "      <th>articulation_id</th>\n",
       "      <td>0</td>\n",
       "    </tr>\n",
       "    <tr>\n",
       "      <th>dynamic_id</th>\n",
       "      <td>0</td>\n",
       "    </tr>\n",
       "    <tr>\n",
       "      <th>pitch_name</th>\n",
       "      <td>rest</td>\n",
       "    </tr>\n",
       "    <tr>\n",
       "      <th>pitch_name_without_octave</th>\n",
       "      <td>rest</td>\n",
       "    </tr>\n",
       "    <tr>\n",
       "      <th>duration_name</th>\n",
       "      <td>Dotted half note</td>\n",
       "    </tr>\n",
       "    <tr>\n",
       "      <th>instrument</th>\n",
       "      <td>0</td>\n",
       "    </tr>\n",
       "  </tbody>\n",
       "</table>\n",
       "</div>"
      ],
      "text/plain": [
       "                                              11816\n",
       "midi_number                                      -1\n",
       "tempo_in_qbm                                     60\n",
       "duration                                        960\n",
       "duration_due_to_tied_notes                      960\n",
       "location                                     308160\n",
       "location_in_measure                             960\n",
       "starting_location_of_this_measure            307200\n",
       "current_measure                                 161\n",
       "harmony_note_flag                             False\n",
       "voice                                             1\n",
       "chord_symbol                                     28\n",
       "time_signature_id                                 1\n",
       "work_id                                           6\n",
       "articulation_id                                   0\n",
       "dynamic_id                                        0\n",
       "pitch_name                                     rest\n",
       "pitch_name_without_octave                      rest\n",
       "duration_name                      Dotted half note\n",
       "instrument                                        0"
      ]
     },
     "execution_count": 105,
     "metadata": {},
     "output_type": "execute_result"
    }
   ],
   "source": [
    "notes.tail(1).T"
   ]
  },
  {
   "cell_type": "code",
   "execution_count": null,
   "metadata": {
    "collapsed": true
   },
   "outputs": [],
   "source": []
  }
 ],
 "metadata": {
  "kernelspec": {
   "display_name": "Python 3",
   "language": "python",
   "name": "python3"
  },
  "language_info": {
   "codemirror_mode": {
    "name": "ipython",
    "version": 3
   },
   "file_extension": ".py",
   "mimetype": "text/x-python",
   "name": "python",
   "nbconvert_exporter": "python",
   "pygments_lexer": "ipython3",
   "version": "3.6.0"
  }
 },
 "nbformat": 4,
 "nbformat_minor": 2
}
