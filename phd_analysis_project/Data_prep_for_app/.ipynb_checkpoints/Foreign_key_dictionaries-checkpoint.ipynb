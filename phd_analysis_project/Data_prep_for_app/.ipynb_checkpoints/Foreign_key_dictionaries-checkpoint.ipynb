{
 "cells": [
  {
   "cell_type": "code",
   "execution_count": 152,
   "metadata": {
    "collapsed": true,
    "deletable": true,
    "editable": true
   },
   "outputs": [],
   "source": [
    "import pandas as pd\n",
    "import math"
   ]
  },
  {
   "cell_type": "code",
   "execution_count": 153,
   "metadata": {
    "collapsed": false,
    "deletable": true,
    "editable": true
   },
   "outputs": [],
   "source": [
    "altyakj = pd.read_json('../Datasets/jsonFiles/allTheThingsYouAreKeithJarrettSolo.json')\n",
    "sdmpwckj = pd.read_json('../Datasets/jsonFiles/somedayMyPrinceWillComeKeithJarrettSolo.json')\n",
    "iiwabkj = pd.read_json('../Datasets/jsonFiles/ifIWereABellKeithJarrettSolo.json')\n",
    "alkj = pd.read_json('../Datasets/jsonFiles/autumnLeavesKeithJarrettSolo.json')\n",
    "ghkj = pd.read_json('../Datasets/jsonFiles/groovinHighKeithJarrettSolo.json')\n",
    "dowarkj = pd.read_json('../Datasets/jsonFiles/daysOfWineAndRosesKeithJarrettSolo.json')\n",
    "sbskj = pd.read_json('../Datasets/jsonFiles/stellaByStarlightKeithJarrettSolo.json')\n",
    "\n",
    "note_events = pd.concat([altyakj, sdmpwckj, iiwabkj, alkj, ghkj, dowarkj, sbskj])\n",
    "\n",
    "#temp fix\n",
    "note_events[\"Current chord type\"] = note_events[\"Current chord type\"].fillna('dom')\n",
    "note_events[\"Lyricist name\"] = note_events[\"Lyricist name\"].fillna('No lyricist')"
   ]
  },
  {
   "cell_type": "code",
   "execution_count": 154,
   "metadata": {
    "collapsed": false,
    "deletable": true,
    "editable": true
   },
   "outputs": [],
   "source": [
    "# CHORD TABLE FOR SQL\n",
    "chords = note_events.groupby(['Current chord root', 'Current chord root as int', 'Current chord type']).count().reset_index().iloc[:,0:3]\n",
    "chords_for_sql = chords.copy()\n",
    "chords_for_sql.columns = ['root', 'root_as_int', 'quality_or_type']\n",
    "chords_for_sql.to_csv('./Prepared_tables/chord_types.csv')\n",
    "\n",
    "# CHORD DICT FOR NOTE_EVENT LOOKUP\n",
    "chords['chord_string'] = chords['Current chord root'] + chords['Current chord type'] + chords['Current chord root as int'].astype(str)\n",
    "chords['chord_symbol'] = chords.index\n",
    "chords.index = chords['chord_string']\n",
    "chords_dict = chords['chord_symbol']\n",
    "chords_dict.to_pickle('../Data_prep_for_app/Foreign_Key_Dicts/chord_dict')"
   ]
  },
  {
   "cell_type": "code",
   "execution_count": 155,
   "metadata": {
    "collapsed": false
   },
   "outputs": [],
   "source": [
    "time_signatures = note_events.groupby(['Time signature numerator', 'Time signature denominator']).count().reset_index().iloc[:,0:2]\n",
    "time_signatures_for_sql = time_signatures.copy()\n",
    "time_signatures.columns = ['numerator', 'denominator']\n",
    "time_signatures_for_sql.to_csv('./Prepared_tables/time_signatures.csv')"
   ]
  },
  {
   "cell_type": "code",
   "execution_count": 156,
   "metadata": {
    "collapsed": false
   },
   "outputs": [],
   "source": [
    "time_signatures['ts_string'] = time_signatures['numerator'].astype(str) + time_signatures['denominator'].astype(str)\n",
    "time_signatures['ts'] = time_signatures.index\n",
    "time_signatures.index = time_signatures['ts_string']\n",
    "time_signatures_dict = time_signatures['ts']\n",
    "time_signatures_dict.to_pickle('../Data_prep_for_app/Foreign_Key_Dicts/time_signature_dict')"
   ]
  },
  {
   "cell_type": "code",
   "execution_count": 157,
   "metadata": {
    "collapsed": false
   },
   "outputs": [],
   "source": [
    "# COMPOSER TABLE FOR SQL\n",
    "composers = note_events.groupby('Composer name').count().reset_index().iloc[:, 0:1]\n",
    "composers_for_sql = composers.copy()\n",
    "composers_for_sql.to_csv('./Prepared_tables/composers.csv')\n",
    "# COMPOSER DICT FOR NOTE EVENT LOOKUP\n",
    "composers['composer'] = composers.index\n",
    "composers.index = composers['Composer name']\n",
    "composers_dict = composers[\"composer\"]\n",
    "composers_dict.to_pickle('../Data_prep_for_app/Foreign_Key_Dicts/composer_dict')"
   ]
  },
  {
   "cell_type": "code",
   "execution_count": 158,
   "metadata": {
    "collapsed": false
   },
   "outputs": [],
   "source": [
    "# COMPOSER TABLE FOR SQL\n",
    "lyricists = note_events.groupby('Lyricist name').count().reset_index().iloc[:, 0:1]\n",
    "lyricists_for_sql = lyricists.copy()\n",
    "lyricists_for_sql.to_csv('./Prepared_tables/lyricists.csv')\n",
    "# COMPOSER DICT FOR NOTE EVENT LOOKUP\n",
    "lyricists['lyricist'] = lyricists.index\n",
    "lyricists.index = lyricists['Lyricist name']\n",
    "lyricists_dict = lyricists[\"lyricist\"]\n",
    "lyricists_dict.to_pickle('../Data_prep_for_app/Foreign_Key_Dicts/lyricist_dict')"
   ]
  },
  {
   "cell_type": "code",
   "execution_count": 159,
   "metadata": {
    "collapsed": false
   },
   "outputs": [],
   "source": [
    "# COMPOSER TABLE FOR SQL\n",
    "performers = note_events.groupby('Performer name').count().reset_index().iloc[:, 0:1]\n",
    "performers_for_sql = performers.copy()\n",
    "performers_for_sql.to_csv('./Prepared_tables/performers.csv')\n",
    "# COMPOSER DICT FOR NOTE EVENT LOOKUP\n",
    "performers['performer'] = performers.index\n",
    "performers.index = performers['Performer name']\n",
    "performers_dict = performers[\"performer\"]\n",
    "performers_dict.to_pickle('../Data_prep_for_app/Foreign_Key_Dicts/performer_dict')"
   ]
  },
  {
   "cell_type": "code",
   "execution_count": 160,
   "metadata": {
    "collapsed": false
   },
   "outputs": [],
   "source": [
    "# COMPOSER TABLE FOR SQL\n",
    "performer_coll = note_events.groupby('Performer collection').count().reset_index().iloc[:, 0:1]\n",
    "performer_coll_for_sql = performer_coll.copy()\n",
    "performer_coll_for_sql.to_csv('./Prepared_tables/performer_collections.csv')\n",
    "# COMPOSER DICT FOR NOTE EVENT LOOKUP\n",
    "performer_coll['performer_coll'] = performer_coll.index\n",
    "performer_coll.index = performer_coll['Performer collection']\n",
    "performer_coll_dict = performer_coll[\"performer_coll\"]\n",
    "performer_coll_dict.to_pickle('../Data_prep_for_app/Foreign_Key_Dicts/performer_coll_dict')"
   ]
  },
  {
   "cell_type": "code",
   "execution_count": 161,
   "metadata": {
    "collapsed": false
   },
   "outputs": [],
   "source": [
    "# COMPOSER TABLE FOR SQL\n",
    "composer_coll = note_events.groupby('Composer collection').count().reset_index().iloc[:, 0:1]\n",
    "composer_coll_for_sql = composer_coll.copy()\n",
    "composer_coll_for_sql.to_csv('./Prepared_tables/composer_collections.csv')\n",
    "# COMPOSER DICT FOR NOTE EVENT LOOKUP\n",
    "composer_coll['composer_coll'] = composer_coll.index\n",
    "composer_coll.index = composer_coll['Composer collection']\n",
    "composer_coll_dict = composer_coll[\"composer_coll\"]\n",
    "composer_coll_dict.to_pickle('../Data_prep_for_app/Foreign_Key_Dicts/composer_coll_dict')"
   ]
  },
  {
   "cell_type": "code",
   "execution_count": 162,
   "metadata": {
    "collapsed": false
   },
   "outputs": [],
   "source": [
    "# COMPOSER TABLE FOR SQL\n",
    "work = note_events.groupby('Title').count().reset_index().iloc[:, 0:1]\n",
    "work_for_sql = work.copy()\n",
    "work_for_sql.to_csv('./Prepared_tables/works.csv')\n",
    "# COMPOSER DICT FOR NOTE EVENT LOOKUP\n",
    "work['work_coll'] = work.index\n",
    "work.index = work['Title']\n",
    "work_dict = work[\"work_coll\"]\n",
    "work_dict.to_pickle('../Data_prep_for_app/Foreign_Key_Dicts/work_dict')"
   ]
  },
  {
   "cell_type": "code",
   "execution_count": 163,
   "metadata": {
    "collapsed": false
   },
   "outputs": [
    {
     "data": {
      "text/plain": [
       "Title\n",
       "All The Things You Are         0\n",
       "Autumn Leaves                  1\n",
       "Days Of Wine And Roses         2\n",
       "Groovin High                   3\n",
       "If I Were A Bell               4\n",
       "Someday My Prince Will Come    5\n",
       "Stella By Starlight            6\n",
       "Name: work_coll, dtype: int64"
      ]
     },
     "execution_count": 163,
     "metadata": {},
     "output_type": "execute_result"
    }
   ],
   "source": [
    "work_dict"
   ]
  },
  {
   "cell_type": "code",
   "execution_count": 164,
   "metadata": {
    "collapsed": false,
    "deletable": true,
    "editable": true
   },
   "outputs": [],
   "source": [
    "# WRITE FILES TO FOREIGN KEY DICT\n"
   ]
  },
  {
   "cell_type": "code",
   "execution_count": 165,
   "metadata": {
    "collapsed": false,
    "deletable": true,
    "editable": true
   },
   "outputs": [
    {
     "data": {
      "text/plain": [
       "Performer name\n",
       "Keith Jarrett    0\n",
       "Name: performer, dtype: int64"
      ]
     },
     "execution_count": 165,
     "metadata": {},
     "output_type": "execute_result"
    }
   ],
   "source": [
    "performers_dict"
   ]
  },
  {
   "cell_type": "code",
   "execution_count": null,
   "metadata": {
    "collapsed": true,
    "deletable": true,
    "editable": true
   },
   "outputs": [],
   "source": []
  },
  {
   "cell_type": "code",
   "execution_count": null,
   "metadata": {
    "collapsed": true
   },
   "outputs": [],
   "source": []
  }
 ],
 "metadata": {
  "kernelspec": {
   "display_name": "Python 3",
   "language": "python",
   "name": "python3"
  },
  "language_info": {
   "codemirror_mode": {
    "name": "ipython",
    "version": 3
   },
   "file_extension": ".py",
   "mimetype": "text/x-python",
   "name": "python",
   "nbconvert_exporter": "python",
   "pygments_lexer": "ipython3",
   "version": "3.6.0"
  }
 },
 "nbformat": 4,
 "nbformat_minor": 2
}
